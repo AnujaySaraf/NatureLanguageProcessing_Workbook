{
 "cells": [
  {
   "cell_type": "code",
   "execution_count": 1,
   "metadata": {
    "collapsed": true
   },
   "outputs": [],
   "source": [
    "# NLP Training \n",
    "# The Challenge with Bag of Words is \n",
    "# 1) Limitation of size (20000) words\n",
    "# 2) We loose information in bag of wordds, Does't take  word order into account\n",
    "# Fuxed size input"
   ]
  },
  {
   "cell_type": "code",
   "execution_count": 2,
   "metadata": {
    "collapsed": true
   },
   "outputs": [],
   "source": [
    "# Artificial Neural network\n",
    "# The Neuron\n",
    "# How Do Neural Network work\n",
    "# How Do Neural Network Learn\n",
    "# Gradient Descent\n",
    "# Stochastic\n",
    "# Backpropogation"
   ]
  },
  {
   "cell_type": "markdown",
   "metadata": {},
   "source": [
    "# Neuron"
   ]
  },
  {
   "cell_type": "code",
   "execution_count": 3,
   "metadata": {
    "collapsed": true
   },
   "outputs": [],
   "source": [
    "#Neuron - Pretty much useless - Like Ant\n",
    "#Axon \n",
    "#Dendrites\n",
    "# Synapse\n",
    "\n",
    "# Input Values, Output value , Neuron (sum and apply activation function)"
   ]
  },
  {
   "cell_type": "markdown",
   "metadata": {},
   "source": [
    "# How ANN Work and learn"
   ]
  },
  {
   "cell_type": "code",
   "execution_count": 5,
   "metadata": {
    "collapsed": true
   },
   "outputs": [],
   "source": [
    "#Perceptron (One single feed forward network )\n",
    "# Cost function \n",
    "# Backpropogations"
   ]
  },
  {
   "cell_type": "markdown",
   "metadata": {},
   "source": [
    "# Gradient Descent"
   ]
  },
  {
   "cell_type": "code",
   "execution_count": 6,
   "metadata": {
    "collapsed": true
   },
   "outputs": [],
   "source": [
    "# 1st Approch ( Brute Force)"
   ]
  },
  {
   "cell_type": "code",
   "execution_count": 8,
   "metadata": {
    "collapsed": true
   },
   "outputs": [],
   "source": [
    "# Curse of Dimensionality\n",
    "# Normal Gradient Descent - Normal covex curve\n",
    "# Batch Gradient Descent\n",
    "\n",
    "# It will run the backpropogation and adjust the weight for batch of row"
   ]
  },
  {
   "cell_type": "markdown",
   "metadata": {},
   "source": [
    "# Stochastic Gradient Descent"
   ]
  },
  {
   "cell_type": "code",
   "execution_count": 9,
   "metadata": {
    "collapsed": true
   },
   "outputs": [],
   "source": [
    "# It will run the backpropogation and adjust the weight for each row"
   ]
  },
  {
   "cell_type": "markdown",
   "metadata": {},
   "source": [
    "# Backpropogation"
   ]
  },
  {
   "cell_type": "code",
   "execution_count": 10,
   "metadata": {
    "collapsed": true
   },
   "outputs": [],
   "source": [
    "# During the process of Backpropogation yoiu can change all the weight"
   ]
  },
  {
   "cell_type": "code",
   "execution_count": null,
   "metadata": {
    "collapsed": true
   },
   "outputs": [],
   "source": [
    "# Step1 - Randomly intialise the weights to small numbers close to 0 (But not 0)\n",
    "# Step 2 - Input the first observation of your dataset in the input layer each feature in one input Node\n",
    "# step 3 - Forward Propogation from left to right the neurons are activated in a way that the impact of each neurons activation is limited by weights , Propogate the activations until getting the procedicted result y\n",
    "# Step 4 - Compare the predicted result to the actual result, Meaure the ge nerated error\n",
    "# Step 5- Back Propogatiobn from right to left, the error is back propogated, Update the weights according to how much they are responsible for the error. The learning rate decided by how much we update the weights\n",
    "# Step 6: Rpeat step 1 to 5 update the weights aftyer each observation (Reinforcemnt Learning) or repeat Step1 to 5 but updae the weights only after a batch of observations (Batch learning)\n",
    "# Step 7 - When the whole trianing set passed throgh the ANN , that make an epoch, redo more epochs"
   ]
  }
 ],
 "metadata": {
  "kernelspec": {
   "display_name": "Python [conda env:Anaconda3]",
   "language": "python",
   "name": "conda-env-Anaconda3-py"
  },
  "language_info": {
   "codemirror_mode": {
    "name": "ipython",
    "version": 3
   },
   "file_extension": ".py",
   "mimetype": "text/x-python",
   "name": "python",
   "nbconvert_exporter": "python",
   "pygments_lexer": "ipython3",
   "version": "3.6.3"
  }
 },
 "nbformat": 4,
 "nbformat_minor": 2
}
