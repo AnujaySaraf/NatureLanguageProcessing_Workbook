{
 "cells": [
  {
   "cell_type": "markdown",
   "metadata": {},
   "source": [
    "# Recurrent Neural Networks"
   ]
  },
  {
   "cell_type": "code",
   "execution_count": 1,
   "metadata": {
    "collapsed": true
   },
   "outputs": [],
   "source": [
    "# The idea behind the Recurrent Neural Networks\n",
    "# Vanishing Gradient Problem\n",
    "# Long short tern Memory (LSTM)\n",
    "# Practical Intution\n",
    "# LSTM Variation\n"
   ]
  },
  {
   "cell_type": "markdown",
   "metadata": {},
   "source": [
    "# Intro Recurrent Neural Networks"
   ]
  },
  {
   "cell_type": "code",
   "execution_count": 2,
   "metadata": {
    "collapsed": true
   },
   "outputs": [],
   "source": [
    "# ANN - Regresion and CLassification\n",
    "# CNN - Used for Computer Vision\n",
    "# RNN - Use for Timeseries Analysis\n",
    "\n",
    "\n",
    "# Self-Organizing Maps - Used for Feature Detection\n",
    "# Deep Boltzmann Machines - Used for recommendation Systems\n",
    "# Autoencoders - Used for recommendation Systems"
   ]
  },
  {
   "cell_type": "code",
   "execution_count": 3,
   "metadata": {
    "collapsed": true
   },
   "outputs": [],
   "source": [
    "# Cerebrum - \n",
    "#Frontal Lobe - shorterm Memory - Personality Memory\n",
    "#Parietal Lobe - Sensation and Perception\n",
    "#Temporal Lobe ( Weight Remembers (Long term memory), \n",
    "#Occipital Lobel(Computer VIsion)\n",
    "\n",
    "\n",
    "# Cerebellum\n",
    "# Brainstem"
   ]
  },
  {
   "cell_type": "code",
   "execution_count": 4,
   "metadata": {
    "collapsed": true
   },
   "outputs": [],
   "source": [
    "# Example Image and Image Caption (One to Many)\n",
    "# CNN will detect the image - RNN make sense out of sentence\n",
    "\n",
    "\n",
    "# Many to one - (Review)\n",
    "\n",
    "# Many to Many - (Google Translation)"
   ]
  },
  {
   "cell_type": "code",
   "execution_count": 5,
   "metadata": {
    "collapsed": true
   },
   "outputs": [],
   "source": [
    "# RNN has short term memory\n",
    "# You can use RNN to subtitles to Movie\n",
    "\n"
   ]
  },
  {
   "cell_type": "markdown",
   "metadata": {},
   "source": [
    "# CHallenges in RNN"
   ]
  },
  {
   "cell_type": "code",
   "execution_count": 6,
   "metadata": {
    "collapsed": true
   },
   "outputs": [],
   "source": [
    "# Vanishing Pradient Problem"
   ]
  },
  {
   "cell_type": "code",
   "execution_count": 7,
   "metadata": {
    "collapsed": true
   },
   "outputs": [],
   "source": [
    "# Solution\n",
    "\n",
    "#1) Exploding Gradient\n",
    "#    a) Truncated Backpropogation\n",
    "#    b) Penalities\n",
    "#    c:) Gradient CLipping\n",
    "\n",
    "\n",
    "# Vanishing Grading\n",
    "# a) Weight Intialization\n",
    "# b) Echo Starte Networks\n",
    "# LOng Short term memory LSTM"
   ]
  },
  {
   "cell_type": "markdown",
   "metadata": {},
   "source": [
    "# LOng Short Term Memory"
   ]
  },
  {
   "cell_type": "code",
   "execution_count": 12,
   "metadata": {
    "collapsed": true
   },
   "outputs": [],
   "source": [
    "# LSTM Architecture\n",
    "# colah.github.io/posts/2015-08-Understanding-LSTMs/\n",
    "# https://medium.com/mlreview/understanding-lstm-and-its-diagrams-37e2f46f1714\n",
    "# Andrej Karpathy http://arxiv.org/pdf/1506.02078.pdf\n"
   ]
  },
  {
   "cell_type": "code",
   "execution_count": 11,
   "metadata": {
    "collapsed": true
   },
   "outputs": [],
   "source": [
    "#Xt - Input (New Value)\n",
    "#Ht-1 - Value from Previous node\n",
    "#Ct-1 - Memory\n",
    "\n",
    "\n",
    "#Volves - Forget, Memory"
   ]
  },
  {
   "cell_type": "markdown",
   "metadata": {},
   "source": [
    "# LSTM Variation"
   ]
  },
  {
   "cell_type": "code",
   "execution_count": 13,
   "metadata": {
    "collapsed": true
   },
   "outputs": [],
   "source": [
    "# GRU - Gated Recurring Unit\n",
    "# LSTM : A space search Odyessy\n",
    "#https://arxiv.org/abs/1503.04069"
   ]
  },
  {
   "cell_type": "code",
   "execution_count": null,
   "metadata": {
    "collapsed": true
   },
   "outputs": [],
   "source": []
  }
 ],
 "metadata": {
  "kernelspec": {
   "display_name": "Python [conda env:Anaconda3]",
   "language": "python",
   "name": "conda-env-Anaconda3-py"
  },
  "language_info": {
   "codemirror_mode": {
    "name": "ipython",
    "version": 3
   },
   "file_extension": ".py",
   "mimetype": "text/x-python",
   "name": "python",
   "nbconvert_exporter": "python",
   "pygments_lexer": "ipython3",
   "version": "3.6.3"
  }
 },
 "nbformat": 4,
 "nbformat_minor": 2
}
