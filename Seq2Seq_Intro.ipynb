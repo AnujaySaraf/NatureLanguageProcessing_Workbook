{
 "cells": [
  {
   "cell_type": "markdown",
   "metadata": {},
   "source": [
    "# Seq2Seq Intro"
   ]
  },
  {
   "cell_type": "code",
   "execution_count": 1,
   "metadata": {
    "collapsed": true
   },
   "outputs": [],
   "source": [
    "# Currently mostly wide usgae of NLP using NLTK use Bag of Words but it has below limitation\n",
    "# Limitation\n",
    "# a) Fixed sized Input\n",
    "# b) Doesn't take word order into account\n",
    "# c) Fixed Sized Input"
   ]
  },
  {
   "cell_type": "code",
   "execution_count": 2,
   "metadata": {
    "collapsed": true
   },
   "outputs": [],
   "source": [
    "# One to One, One to many, Many to One, Many to Many Options of RNN available"
   ]
  },
  {
   "cell_type": "code",
   "execution_count": 4,
   "metadata": {
    "collapsed": true
   },
   "outputs": [],
   "source": [
    "# Encode to Decode\n",
    "\n",
    "# Hello AJ, Did you came from Vacation (Encoder) - 1st NN\n",
    "# Yes, I am back (Decoder) - 2nd NN"
   ]
  },
  {
   "cell_type": "code",
   "execution_count": 3,
   "metadata": {
    "collapsed": true
   },
   "outputs": [],
   "source": [
    "# Beam Search Decoding - This help to find the probabilty of word selection.\n",
    "# a) Greedy Decoding ( Find the rank of first word and follow the path)\n",
    "# b) Beam Search Decoding (Join Probability)"
   ]
  },
  {
   "cell_type": "code",
   "execution_count": null,
   "metadata": {
    "collapsed": true
   },
   "outputs": [],
   "source": []
  }
 ],
 "metadata": {
  "kernelspec": {
   "display_name": "Python [default]",
   "language": "python",
   "name": "python3"
  },
  "language_info": {
   "codemirror_mode": {
    "name": "ipython",
    "version": 3
   },
   "file_extension": ".py",
   "mimetype": "text/x-python",
   "name": "python",
   "nbconvert_exporter": "python",
   "pygments_lexer": "ipython3",
   "version": "3.6.3"
  }
 },
 "nbformat": 4,
 "nbformat_minor": 2
}
